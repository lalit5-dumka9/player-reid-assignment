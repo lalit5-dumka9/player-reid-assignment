{
 "cells": [
  {
   "cell_type": "code",
   "execution_count": 2,
   "id": "b8d48063",
   "metadata": {},
   "outputs": [],
   "source": [
    "import cv2\n",
    "import numpy as np\n",
    "from sklearn.metrics.pairwise import cosine_similarity\n",
    "\n",
    "def extract_features(crop):\n",
    "    resized = cv2.resize(crop, (64, 128))\n",
    "    hsv = cv2.cvtColor(resized, cv2.COLOR_BGR2HSV)\n",
    "    hist = cv2.calcHist([hsv], [0, 1, 2], None, [8, 8, 8], [0, 180, 0, 256, 0, 256])\n",
    "    hist = cv2.normalize(hist, hist).flatten()\n",
    "    return hist\n",
    "\n",
    "def match_players(feats1, feats2, threshold=0.8):\n",
    "    ids1 = list(feats1.keys())\n",
    "    ids2 = list(feats2.keys())\n",
    "    X = np.array([feats1[i] for i in ids1])\n",
    "    Y = np.array([feats2[i] for i in ids2])\n",
    "\n",
    "    sim = cosine_similarity(X, Y)\n",
    "    matches = {}\n",
    "\n",
    "    for i, row in enumerate(sim):\n",
    "        max_idx = np.argmax(row)\n",
    "        if row[max_idx] > threshold:\n",
    "            matches[ids1[i]] = ids2[max_idx]\n",
    "    return matches\n",
    "\n",
    "def draw_player_boxes(frame, boxes, ids):\n",
    "    for box, pid in zip(boxes, ids):\n",
    "        x1, y1, x2, y2 = map(int, box)\n",
    "        cv2.rectangle(frame, (x1, y1), (x2, y2), (0, 255, 0), 2)\n",
    "        cv2.putText(frame, f\"ID: {pid}\", (x1, y1 - 10), cv2.FONT_HERSHEY_SIMPLEX, 0.6, (255, 0, 0), 2)\n",
    "    return frame"
   ]
  }
 ],
 "metadata": {
  "kernelspec": {
   "display_name": "tf",
   "language": "python",
   "name": "python3"
  },
  "language_info": {
   "codemirror_mode": {
    "name": "ipython",
    "version": 3
   },
   "file_extension": ".py",
   "mimetype": "text/x-python",
   "name": "python",
   "nbconvert_exporter": "python",
   "pygments_lexer": "ipython3",
   "version": "3.10.15"
  }
 },
 "nbformat": 4,
 "nbformat_minor": 5
}
